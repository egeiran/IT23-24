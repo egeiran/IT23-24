{
 "cells": [
  {
   "cell_type": "markdown",
   "metadata": {},
   "source": [
    "## Oppgave 4 - Sykkelturer\n",
    "\n",
    "Starter med å laste informasjonen fra json-filen"
   ]
  },
  {
   "cell_type": "code",
   "execution_count": 2,
   "metadata": {},
   "outputs": [],
   "source": [
    "import json\n",
    "\n",
    "with open(\"sykkelturer.json\", \"r\") as f:\n",
    "    data = json.load(f)"
   ]
  },
  {
   "cell_type": "markdown",
   "metadata": {},
   "source": [
    "Lager funksjon for å samle de mest populære startstasjonene"
   ]
  },
  {
   "cell_type": "code",
   "execution_count": 3,
   "metadata": {},
   "outputs": [
    {
     "name": "stdout",
     "output_type": "stream",
     "text": [
      "[('Alexander Kiellands Plass', 537), ('Helga Helgesens plass', 503), ('Olaf Ryes plass', 495), ('Aker Brygge', 492), ('Marcus Thranes gate', 476)]\n",
      "\n",
      "[('29628', ('Dronningens gate', 'Jernbanetorget')), ('27613', ('The Hub', 'Parkveien')), ('26605', ('Colletts gate', 'Skråninga')), ('26501', ('Dronningens gate', 'Alexander Kiellands Plass')), ('26359', ('Domus Athletica', 'Carl Berners plass nord'))]\n"
     ]
    }
   ],
   "source": [
    "startplasser = {}\n",
    "lengder = {}\n",
    "for tur in data:\n",
    "    if tur[\"start_station_name\"] not in startplasser.keys():\n",
    "        startplasser[tur[\"start_station_name\"]] = 1\n",
    "    else:\n",
    "        startplasser[tur[\"start_station_name\"]] += 1\n",
    "    # TIL OPPGAVE 2\n",
    "    lengder[tur[\"duration\"]] = (tur[\"start_station_name\"], tur[\"end_station_name\"])\n",
    "\n",
    "\n",
    "startplasser_sortert = sorted(startplasser.items(), key=lambda startplass:startplass[1], reverse=True)\n",
    "# TIL OPPGAVE 2\n",
    "lengder_sortert = sorted(lengder.items(), key=lambda lengde:int(lengde[0]), reverse=True)\n",
    "\n",
    "print(startplasser_sortert[:5])\n",
    "print()\n",
    "print(lengder_sortert[:5])"
   ]
  },
  {
   "cell_type": "code",
   "execution_count": 12,
   "metadata": {},
   "outputs": [
    {
     "name": "stdout",
     "output_type": "stream",
     "text": [
      "('HasleLinje', 'Skøyen Stasjon')\n",
      "('Sjølyst', 'Sotahjørnet')\n",
      "('Sofienbergparken nord', 'Furulund')\n"
     ]
    },
    {
     "data": {
      "text/plain": [
       "'\\nlengder_sortert[:3]\\n'"
      ]
     },
     "execution_count": 12,
     "metadata": {},
     "output_type": "execute_result"
    }
   ],
   "source": [
    "import math\n",
    "\n",
    "distanse = {}\n",
    "\n",
    "for tur in data:\n",
    "    dist_lat = float(tur[\"end_station_latitude\"]) - float(tur[\"start_station_latitude\"])\n",
    "    dist_lon = float(tur[\"end_station_longitude\"]) - float(tur[\"start_station_longitude\"])\n",
    "\n",
    "    dist = math.sqrt(dist_lat**2+dist_lon**2)\n",
    "    distanse[dist] = (tur[\"start_station_name\"], tur[\"end_station_name\"])\n",
    "    \n",
    "lengder_sortert = sorted(distanse.items(), key=lambda dista:dista[0], reverse=True)\n",
    "\n",
    "for i in range(3):\n",
    "    print(lengder_sortert[i][1])\n",
    "\n",
    "# Hvis du ønsker distanse kunne man skrevet\n",
    "\"\"\"\n",
    "lengder_sortert[:3]\n",
    "\"\"\"\n",
    "# Men jeg følte at de var irrelevante. "
   ]
  }
 ],
 "metadata": {
  "kernelspec": {
   "display_name": "Python 3.8.5 ('base')",
   "language": "python",
   "name": "python3"
  },
  "language_info": {
   "codemirror_mode": {
    "name": "ipython",
    "version": 3
   },
   "file_extension": ".py",
   "mimetype": "text/x-python",
   "name": "python",
   "nbconvert_exporter": "python",
   "pygments_lexer": "ipython3",
   "version": "3.8.5"
  },
  "orig_nbformat": 4,
  "vscode": {
   "interpreter": {
    "hash": "f3d7cdb4777bbd7da1406ec0be8e15425d60542aec72d6f7f803f3da416f6080"
   }
  }
 },
 "nbformat": 4,
 "nbformat_minor": 2
}
