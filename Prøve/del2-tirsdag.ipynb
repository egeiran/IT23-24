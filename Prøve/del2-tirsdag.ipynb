{
 "cells": [
  {
   "cell_type": "markdown",
   "metadata": {},
   "source": [
    "## Oppgave 3\n",
    "\n",
    "Listen `biler` inneholder informasjon om de 10 mest solgte bilene i Norge i 2023.\n",
    "\n",
    "> OBS! Kjør kodeblokken under før du begynner å programmere!\n",
    "\n",
    "1. Bruk listen og lag en fin utskrift med informasjon om Tesla Model Y\n",
    "2. Bruk listen og lag en fin utskrift med informasjon om alle bilene på topplisten\n",
    "3. Av bilene som er på topplisten hvor mange solgte biler er av merke Toyota?\n",
    "4. Lag en ordbok som teller antall solgte biler for hvert bilmerke på topplisten\n",
    "5. Tegn et stolpediagram som viser antall solgte biler på topplisten gruppert etter bilmerke"
   ]
  },
  {
   "cell_type": "code",
   "execution_count": 2,
   "metadata": {},
   "outputs": [],
   "source": [
    "biler =  [\n",
    "    {\"bilmerke\": \"Tesla\", \"modell\": \"Model Y\", \"land\": \"USA\", \"antall_solgte\": 23088, \"andel_solgte\": 18.2},\n",
    "    {\"bilmerke\": \"Volkswagen\", \"modell\": \"ID.4\", \"land\": \"Tyskland\", \"antall_solgte\": 6614, \"andel_solgte\": 5.2},\n",
    "    {\"bilmerke\": \"Skoda\", \"modell\": \"Enyaq\", \"land\": \"Tsjekkia\", \"antall_solgte\": 5740, \"andel_solgte\": 4.5},\n",
    "    {\"bilmerke\": \"Toyota\", \"modell\": \"bZ4X\", \"land\": \"Japan\", \"antall_solgte\": 5395, \"andel_solgte\": 4.2},\n",
    "    {\"bilmerke\": \"Volvo\", \"modell\": \"XC40\", \"land\": \"Sverige\", \"antall_solgte\": 5025, \"andel_solgte\": 4.0},\n",
    "    {\"bilmerke\": \"Ford\", \"modell\": \"Mustang Mach-E\", \"land\": \"USA\", \"antall_solgte\": 3792, \"andel_solgte\": 3.0},\n",
    "    {\"bilmerke\": \"Toyota\", \"modell\": \"Yaris\", \"land\": \"Japan\", \"antall_solgte\": 3582, \"andel_solgte\": 2.8},\n",
    "    {\"bilmerke\": \"Toyota\", \"modell\": \"RAV4\", \"land\": \"Japan\", \"antall_solgte\": 3457, \"andel_solgte\": 2.7},\n",
    "    {\"bilmerke\": \"Volkswagen\", \"modell\": \"ID.3\", \"land\": \"Tyskland\", \"antall_solgte\": 3141, \"andel_solgte\": 2.5}\n",
    "]\n",
    "# Kjør denne kodeblokken før du begynner! (shift + enter) / (Trykk på play)"
   ]
  },
  {
   "cell_type": "code",
   "execution_count": 3,
   "metadata": {},
   "outputs": [
    {
     "name": "stdout",
     "output_type": "stream",
     "text": [
      "Tesla Model Y er fra USA. Det er blitt solgt 23088. Det er 18.2% av hele markedet.\n"
     ]
    }
   ],
   "source": [
    "# 1. Bruk ordboken og lag en fin utskrift med informasjon om Tesla Model Y\n",
    "bil = biler[0]\n",
    "print(f'{bil[\"bilmerke\"]} {bil[\"modell\"]} er fra {bil[\"land\"]}. Det er blitt solgt {bil[\"antall_solgte\"]}. Det er {bil[\"andel_solgte\"]}% av hele markedet.')"
   ]
  },
  {
   "cell_type": "code",
   "execution_count": 4,
   "metadata": {},
   "outputs": [
    {
     "name": "stdout",
     "output_type": "stream",
     "text": [
      "Tesla Model Y er fra USA. Det er blitt solgt 23088. Det er 18.2% av hele markedet.\n",
      "Volkswagen ID.4 er fra Tyskland. Det er blitt solgt 6614. Det er 5.2% av hele markedet.\n",
      "Skoda Enyaq er fra Tsjekkia. Det er blitt solgt 5740. Det er 4.5% av hele markedet.\n",
      "Toyota bZ4X er fra Japan. Det er blitt solgt 5395. Det er 4.2% av hele markedet.\n",
      "Volvo XC40 er fra Sverige. Det er blitt solgt 5025. Det er 4.0% av hele markedet.\n",
      "Ford Mustang Mach-E er fra USA. Det er blitt solgt 3792. Det er 3.0% av hele markedet.\n",
      "Toyota Yaris er fra Japan. Det er blitt solgt 3582. Det er 2.8% av hele markedet.\n",
      "Toyota RAV4 er fra Japan. Det er blitt solgt 3457. Det er 2.7% av hele markedet.\n",
      "Volkswagen ID.3 er fra Tyskland. Det er blitt solgt 3141. Det er 2.5% av hele markedet.\n"
     ]
    }
   ],
   "source": [
    "# 2. Bruk listen og lag en fin utskrift med informasjon om alle bilene på topplisten\n",
    "for bil in biler:\n",
    "    print(f'{bil[\"bilmerke\"]} {bil[\"modell\"]} er fra {bil[\"land\"]}. Det er blitt solgt {bil[\"antall_solgte\"]}. Det er {bil[\"andel_solgte\"]}% av hele markedet.')"
   ]
  },
  {
   "cell_type": "code",
   "execution_count": 5,
   "metadata": {},
   "outputs": [
    {
     "name": "stdout",
     "output_type": "stream",
     "text": [
      "Det er solgt til sammen 12434 Toyotaer.\n"
     ]
    }
   ],
   "source": [
    "# 3. Av bilene som er på topplisten hvor mange solgte biler var av merke Toyota?\n",
    "ant_toyota = 0\n",
    "for bil in biler:\n",
    "    if bil[\"bilmerke\"] == \"Toyota\":\n",
    "        ant_toyota += bil[\"antall_solgte\"]\n",
    "print(f'Det er solgt til sammen {ant_toyota} Toyotaer.')"
   ]
  },
  {
   "cell_type": "code",
   "execution_count": 6,
   "metadata": {},
   "outputs": [
    {
     "data": {
      "text/plain": [
       "{'Tesla': 23088,\n",
       " 'Volkswagen': 9755,\n",
       " 'Skoda': 5740,\n",
       " 'Toyota': 12434,\n",
       " 'Volvo': 5025,\n",
       " 'Ford': 3792}"
      ]
     },
     "execution_count": 6,
     "metadata": {},
     "output_type": "execute_result"
    }
   ],
   "source": [
    "# 4. Lag en ordbok som teller antall solgte biler for hvert bilmerke på topplisten\n",
    "ant_bilmerke = {}\n",
    "for bil in biler:\n",
    "    if bil[\"bilmerke\"] not in ant_bilmerke:\n",
    "        ant_bilmerke[bil[\"bilmerke\"]] = bil[\"antall_solgte\"]\n",
    "    else:\n",
    "        ant_bilmerke[bil[\"bilmerke\"]] += bil[\"antall_solgte\"]\n",
    "ant_bilmerke"
   ]
  },
  {
   "cell_type": "code",
   "execution_count": 7,
   "metadata": {},
   "outputs": [
    {
     "data": {
      "text/plain": [
       "<BarContainer object of 6 artists>"
      ]
     },
     "execution_count": 7,
     "metadata": {},
     "output_type": "execute_result"
    },
    {
     "data": {
      "image/png": "[encoded data removed]",
      "text/plain": [
       "<Figure size 432x288 with 1 Axes>"
      ]
     },
     "metadata": {
      "needs_background": "light"
     },
     "output_type": "display_data"
    }
   ],
   "source": [
    "# 5. Tegn et stolpediagram som viser antall solgte biler på topplisten gruppert etter bilmerke\n",
    "import matplotlib.pyplot as plt\n",
    "\n",
    "bilmerker = ant_bilmerke.keys()\n",
    "antall = ant_bilmerke.values()\n",
    "\n",
    "plt.bar(bilmerker, antall)"
   ]
  },
  {
   "cell_type": "markdown",
   "metadata": {},
   "source": [
    "## Oppgave 4\n",
    "\n",
    "1. Åpne filen oscar2024.json med python, og print ordboken til \"Actor in a Leading Role\" (den første prisen)\n",
    "2. Print alle de nominerte filmene\n",
    "3. Hvor mange nominasjoner har filmen \"Barbie\"\n",
    "4. Hvilken film har flest nominasjoner, hvor mange har den?\n",
    "5. Lag en oversikt som presenterer de ti filmene med flest nominasjoner og antall nominasjoner"
   ]
  },
  {
   "cell_type": "code",
   "execution_count": 8,
   "metadata": {},
   "outputs": [
    {
     "name": "stdout",
     "output_type": "stream",
     "text": [
      "{'name': 'Actor in a Leading Role', 'nominations': [{'name': 'Bradley Cooper', 'movie': 'Maestro'}, {'name': 'Colman Domingo', 'movie': 'Rustin'}, {'name': 'Paul Giamatti', 'movie': 'The Holdovers'}, {'name': 'Cillian Murphy', 'movie': 'Oppenheimer'}, {'name': 'Jeffrey Wright', 'movie': 'American Fiction'}]}\n"
     ]
    }
   ],
   "source": [
    "# 1. Åpne filen oscar2024.json med python og print ordboken til \"Actor in a Leading Role\"\n",
    "import json\n",
    "\n",
    "with open(\"oscar2024.json\") as fil:\n",
    "    data = json.load(fil)\n",
    "\n",
    "print(data[0])\n",
    "# Føler spørsmålet er stilt litt rart, jeg velger derfor å printe hele ordboken som har en nøkkel \"navn\" med verdien \"Actor in a Leading Role\""
   ]
  },
  {
   "cell_type": "code",
   "execution_count": 9,
   "metadata": {},
   "outputs": [
    {
     "name": "stdout",
     "output_type": "stream",
     "text": [
      "Maestro\n",
      "Rustin\n",
      "The Holdovers\n",
      "Oppenheimer\n",
      "American Fiction\n",
      "American Fiction\n",
      "Killers of the Flower Moon\n",
      "Oppenheimer\n",
      "Barbie\n",
      "Poor Things\n",
      "Nyad\n",
      "Killers of the Flower Moon\n",
      "Anatomy of a Fall\n",
      "Maestro\n",
      "Poor Things\n",
      "Oppenheimer\n",
      "The Color Purple\n",
      "Barbie\n",
      "Nyad\n",
      "The Holdovers\n",
      "The Boy and the Heron\n",
      "Elemental\n",
      "Nimona\n",
      "Robot Dreams\n",
      "Spider-Man: Across the Spider-Verse\n",
      "El Conde\n",
      "Killers of the Flower Moon\n",
      "Maestro\n",
      "Oppenheimer\n",
      "Poor Things\n",
      "Barbie\n",
      "Killers of the Flower Moon\n",
      "Napoleon\n",
      "Oppenheimer\n",
      "Poor Things\n",
      "Anatomy of a Fall\n",
      "Killers of the Flower Moon\n",
      "Oppenheimer\n",
      "Poor Things\n",
      "The Zone of Interest\n",
      "Bobi Wine: The People's President\n",
      "Four Daughters\n",
      "To Kill a Tiger\n",
      "20 Days in Mariupol\n",
      "The ABCs of Book Banning\n",
      "The Barber of Little Rock\n",
      "Island in Between\n",
      "The Last Repair Shop\n",
      "Nǎi Nai & Wài Pó\n",
      "Anatomy of a Fall\n",
      "The Holdovers\n",
      "Killers of the Flower Moon\n",
      "Oppenheimer\n",
      "Poor Things\n",
      "Io Capitano\n",
      "Perfect Days\n",
      "Society of the Snow\n",
      "The Teachers' Lounge\n",
      "The Zone of Interest\n",
      "American Fiction\n",
      "Anatomy of a Fall\n",
      "Barbie\n",
      "The Holdovers\n",
      "Killers of the Flower Moon\n",
      "Maestro\n",
      "Oppenheimer\n",
      "Past Lives\n",
      "Poor Things\n",
      "The Zone of Interest\n",
      "Golda\n",
      "Maestro\n",
      "Oppenheimer\n",
      "Poor Things\n",
      "Society of the Snow\n",
      "American Fiction\n",
      "Indiana Jones and the Dial of Destiny\n",
      "Killers of the Flower Moon\n",
      "Oppenheimer\n",
      "Poor Things\n",
      "The Fire Inside\n",
      "I'm Just Ken\n",
      "It Never Went Away\n",
      "Wahzhazhe (A Song For My People)\n",
      "What Was I Made For?\n",
      "Barbie\n",
      "Killers of the Flower Moon\n",
      "Napoleon\n",
      "Oppenheimer\n",
      "Poor Things\n",
      "Letter to a Pig\n",
      "Ninety-Five Senses\n",
      "Our Uniform\n",
      "Pachyderme\n",
      "WAR IS OVER! Inspired by the Music of John & Yoko\n",
      "The After\n",
      "Invincible\n",
      "Knight of Fortune\n",
      "Red, White and Blue\n",
      "The Wonderful Story of Henry Sugar\n",
      "The Creator\n",
      "Maestro\n",
      "Mission: Impossible - Dead Reckoning Part One\n",
      "Oppenheimer\n",
      "The Zone of Interest\n",
      "The Creator\n",
      "Godzilla Minus One\n",
      "Guardians of the Galaxy Vol. 3\n",
      "Mission: Impossible - Dead Reckoning Part One\n",
      "Napoleon\n",
      "American Fiction\n",
      "Barbie\n",
      "Oppenheimer\n",
      "Poor Things\n",
      "The Zone of Interest\n",
      "Anatomy of a Fall\n",
      "The Holdovers\n",
      "Maestro\n",
      "May December\n",
      "Past Lives\n"
     ]
    }
   ],
   "source": [
    "# 2. Print alle filmene de nominerte filmene\n",
    "# >  Filmer som er nominert til flere priser kan printes flere ganger\n",
    "for pris in data:\n",
    "    for ordbok in pris[\"nominations\"]:\n",
    "        print(ordbok[\"movie\"])"
   ]
  },
  {
   "cell_type": "code",
   "execution_count": 10,
   "metadata": {},
   "outputs": [
    {
     "name": "stdout",
     "output_type": "stream",
     "text": [
      "Barbie er nominert til 6 priser.\n"
     ]
    }
   ],
   "source": [
    "# 3. Hvor mange nominasjoner har filmen \"Barbie\"\n",
    "ant_filmer = {}\n",
    "for pris in data:\n",
    "    for ordbok in pris[\"nominations\"]:\n",
    "        film = ordbok[\"movie\"]\n",
    "        if film not in ant_filmer:\n",
    "            ant_filmer[film] = 1\n",
    "        else:\n",
    "            ant_filmer[film] += 1\n",
    "print(f'Barbie er nominert til {ant_filmer[\"Barbie\"]} priser.')"
   ]
  },
  {
   "cell_type": "code",
   "execution_count": 11,
   "metadata": {},
   "outputs": [
    {
     "name": "stdout",
     "output_type": "stream",
     "text": [
      "Filmen med flest nominasjoner er Oppenheimer med 13 nominasjoner.\n"
     ]
    }
   ],
   "source": [
    "# 4. Hvilken film har flest nominasjoner, hvor mange har den?\n",
    "sortert = sorted(ant_filmer.items(), key=lambda antall:antall[1], reverse=True)\n",
    "flest = sortert[0]\n",
    "print(f'Filmen med flest nominasjoner er {flest[0]} med {flest[1]} nominasjoner.')"
   ]
  },
  {
   "cell_type": "code",
   "execution_count": 12,
   "metadata": {},
   "outputs": [
    {
     "name": "stdout",
     "output_type": "stream",
     "text": [
      "Oppenheimer (13)\n",
      "Poor Things (11)\n",
      "Killers of the Flower Moon (9)\n",
      "Maestro (7)\n",
      "Barbie (6)\n",
      "The Holdovers (5)\n",
      "American Fiction (5)\n",
      "Anatomy of a Fall (5)\n",
      "The Zone of Interest (5)\n",
      "Napoleon (3)\n"
     ]
    }
   ],
   "source": [
    "# 5. Lag en utskrift som viser de ti filmene med flest nominasjoner og antall nominasjoner\n",
    "for film in sortert[:10]:\n",
    "    print(f'{film[0]} ({film[1]})')"
   ]
  },
  {
   "cell_type": "code",
   "execution_count": 14,
   "metadata": {},
   "outputs": [
    {
     "name": "stdout",
     "output_type": "stream",
     "text": [
      "   1: Oppenheimer                    (13)\n",
      "   2: Poor Things                    (11)\n",
      "   3: Killers of the Flower Moon     ( 9)\n",
      "   4: Maestro                        ( 7)\n",
      "   5: Barbie                         ( 6)\n",
      "   6: The Holdovers                  ( 5)\n",
      "   7: American Fiction               ( 5)\n",
      "   8: Anatomy of a Fall              ( 5)\n",
      "   9: The Zone of Interest           ( 5)\n",
      "  10: Napoleon                       ( 3)\n"
     ]
    }
   ],
   "source": [
    "for i in range(0,10):\n",
    "    print(f'  {(i+1):2d}: {sortert[i][0]:30} ({sortert[i][1]:2d})')"
   ]
  }
 ],
 "metadata": {
  "kernelspec": {
   "display_name": "Python 3.8.5 ('base')",
   "language": "python",
   "name": "python3"
  },
  "language_info": {
   "codemirror_mode": {
    "name": "ipython",
    "version": 3
   },
   "file_extension": ".py",
   "mimetype": "text/x-python",
   "name": "python",
   "nbconvert_exporter": "python",
   "pygments_lexer": "ipython3",
   "version": "3.8.5"
  },
  "vscode": {
   "interpreter": {
    "hash": "f3d7cdb4777bbd7da1406ec0be8e15425d60542aec72d6f7f803f3da416f6080"
   }
  }
 },
 "nbformat": 4,
 "nbformat_minor": 2
}
