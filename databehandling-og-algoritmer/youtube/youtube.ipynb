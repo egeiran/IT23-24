{
 "cells": [
  {
   "cell_type": "code",
   "execution_count": 11,
   "metadata": {},
   "outputs": [],
   "source": [
    "import json\n",
    "\n",
    "with open(\"Global YouTube Statistics.json\") as fil:\n",
    "    data = json.load(fil)"
   ]
  },
  {
   "cell_type": "code",
   "execution_count": 12,
   "metadata": {},
   "outputs": [
    {
     "name": "stdout",
     "output_type": "stream",
     "text": [
      "dict_items([('India', 168), ('United States', 313), ('nan', 1), ('Japan', 5), ('Russia', 16), ('South Korea', 17), ('United Kingdom', 43), ('Canada', 15), ('Brazil', 62), ('Argentina', 13), ('Chile', 3), ('Cuba', 1), ('El Salvador', 1), ('Pakistan', 6), ('Philippines', 12), ('Thailand', 18), ('Colombia', 11), ('Barbados', 1), ('Mexico', 33), ('United Arab Emirates', 7), ('Spain', 22), ('Saudi Arabia', 9), ('Indonesia', 28), ('Turkey', 4), ('Venezuela', 1), ('Kuwait', 1), ('Jordan', 3), ('Netherlands', 3), ('Singapore', 3), ('Australia', 9), ('Italy', 2), ('Germany', 6), ('France', 5), ('Sweden', 4), ('Afghanistan', 1), ('Ukraine', 8), ('Latvia', 1), ('Switzerland', 1), ('Vietnam', 3), ('Malaysia', 1), ('China', 1), ('Iraq', 2), ('Egypt', 2), ('Andorra', 1), ('Ecuador', 2), ('Morocco', 1), ('Peru', 1), ('Bangladesh', 1), ('Finland', 1), ('Samoa', 1)])\n"
     ]
    }
   ],
   "source": [
    "land = {}\n",
    "for kanal in data:\n",
    "    if kanal[\"Country\"] in land and kanal[\"Country\"] != \"nan\":\n",
    "        land[kanal[\"Country\"]] += 1 \n",
    "    else:\n",
    "        land[kanal[\"Country\"]] = 1\n",
    "\n",
    "print(land.items())"
   ]
  },
  {
   "cell_type": "code",
   "execution_count": 13,
   "metadata": {},
   "outputs": [
    {
     "name": "stdout",
     "output_type": "stream",
     "text": [
      "[('United States', 313), ('India', 168), ('Brazil', 62), ('United Kingdom', 43), ('Mexico', 33), ('Indonesia', 28), ('Spain', 22), ('Thailand', 18), ('South Korea', 17), ('Russia', 16)]\n"
     ]
    }
   ],
   "source": [
    "land_sortert = sorted(land.items(), key=lambda land:land[1], reverse=True)\n",
    "\n",
    "print(land_sortert[:10])"
   ]
  },
  {
   "cell_type": "code",
   "execution_count": 14,
   "metadata": {},
   "outputs": [
    {
     "name": "stdout",
     "output_type": "stream",
     "text": [
      "dict_items([('India', 168), ('United States', 313), ('nan', 1), ('Japan', 5), ('Russia', 16), ('South Korea', 17), ('United Kingdom', 43), ('Canada', 15), ('Brazil', 62), ('Argentina', 13), ('Chile', 3), ('Cuba', 1), ('El Salvador', 1), ('Pakistan', 6), ('Philippines', 12), ('Thailand', 18), ('Colombia', 11), ('Barbados', 1), ('Mexico', 33), ('United Arab Emirates', 7), ('Spain', 22), ('Saudi Arabia', 9), ('Indonesia', 28), ('Turkey', 4), ('Venezuela', 1), ('Kuwait', 1), ('Jordan', 3), ('Netherlands', 3), ('Singapore', 3), ('Australia', 9), ('Italy', 2), ('Germany', 6), ('France', 5), ('Sweden', 4), ('Afghanistan', 1), ('Ukraine', 8), ('Latvia', 1), ('Switzerland', 1), ('Vietnam', 3), ('Malaysia', 1), ('China', 1), ('Iraq', 2), ('Egypt', 2), ('Andorra', 1), ('Ecuador', 2), ('Morocco', 1), ('Peru', 1), ('Bangladesh', 1), ('Finland', 1), ('Samoa', 1)])\n"
     ]
    }
   ],
   "source": [
    "land = {}\n",
    "for kanal in data:\n",
    "    if kanal[\"Country\"] in land and kanal[\"Country\"] != \"nan\":\n",
    "        land[kanal[\"Country\"]] += 1 \n",
    "    else:\n",
    "        land[kanal[\"Country\"]] = 1\n",
    "\n",
    "print(land.items())"
   ]
  },
  {
   "cell_type": "code",
   "execution_count": 19,
   "metadata": {},
   "outputs": [
    {
     "name": "stdout",
     "output_type": "stream",
     "text": [
      "STATISTIKK FOR United States\n",
      "Gjennomsnittsvisninger per kanal i er 11790069702.74441\n",
      "Gjennomsnittsabbonenter per kanal i er 11790069702.74441\n",
      "\n",
      "STATISTIKK FOR India\n",
      "Gjennomsnittsvisninger per kanal i er 13577668900.02381\n",
      "Gjennomsnittsabbonenter per kanal i er 13577668900.02381\n",
      "\n",
      "STATISTIKK FOR Brazil\n",
      "Gjennomsnittsvisninger per kanal i er 7761435068.82258\n",
      "Gjennomsnittsabbonenter per kanal i er 7761435068.82258\n",
      "\n",
      "STATISTIKK FOR United Kingdom\n",
      "Gjennomsnittsvisninger per kanal i er 10013175153.67442\n",
      "Gjennomsnittsabbonenter per kanal i er 10013175153.67442\n",
      "\n",
      "STATISTIKK FOR Mexico\n",
      "Gjennomsnittsvisninger per kanal i er 6006664609.787879\n",
      "Gjennomsnittsabbonenter per kanal i er 6006664609.787879\n",
      "\n",
      "STATISTIKK FOR Indonesia\n",
      "Gjennomsnittsvisninger per kanal i er 5393238180.535714\n",
      "Gjennomsnittsabbonenter per kanal i er 5393238180.535714\n",
      "\n",
      "STATISTIKK FOR Spain\n",
      "Gjennomsnittsvisninger per kanal i er 6023669745.409091\n",
      "Gjennomsnittsabbonenter per kanal i er 6023669745.409091\n",
      "\n",
      "STATISTIKK FOR Thailand\n",
      "Gjennomsnittsvisninger per kanal i er 14684331930.055555\n",
      "Gjennomsnittsabbonenter per kanal i er 14684331930.055555\n",
      "\n",
      "STATISTIKK FOR South Korea\n",
      "Gjennomsnittsvisninger per kanal i er 13270099142.117647\n",
      "Gjennomsnittsabbonenter per kanal i er 13270099142.117647\n",
      "\n",
      "STATISTIKK FOR Russia\n",
      "Gjennomsnittsvisninger per kanal i er 14562270532.9375\n",
      "Gjennomsnittsabbonenter per kanal i er 14562270532.9375\n",
      "\n"
     ]
    }
   ],
   "source": [
    "land = {}\n",
    "for kanal in data:\n",
    "    if kanal[\"Country\"] in land and kanal[\"Country\"] != \"nan\":\n",
    "        land[kanal[\"Country\"]][\"antland\"] += 1 \n",
    "        land[kanal[\"Country\"]][\"abbonenter\"] += kanal[\"subscribers\"]\n",
    "        land[kanal[\"Country\"]][\"videovisninger\"] += kanal[\"video views\"]\n",
    "    else:\n",
    "        land[kanal[\"Country\"]] = {\n",
    "            \"antland\": 1,\n",
    "            \"abbonenter\": kanal[\"subscribers\"],\n",
    "            \"videovisninger\": kanal[\"video views\"]\n",
    "        }\n",
    "\n",
    "for landene in land_sortert[:10]:        # land sortert er det vi sorterte tidligere\n",
    "    gjennomsnitts_visninger = land[landene[0]][\"videovisninger\"]/landene[1]     # landene 1 sier hvor mange kanaler det er i landet\n",
    "    gjennomsnitts_abbonenter = land[landene[0]][\"abbonenter\"]/landene[1]\n",
    "    print(f\"STATISTIKK FOR {landene[0]}\")\n",
    "    print(f\"Gjennomsnittsvisninger per kanal i er {gjennomsnitts_visninger}\")\n",
    "    print(f\"Gjennomsnittsabbonenter per kanal i er {gjennomsnitts_visninger}\")\n",
    "    print()\n"
   ]
  }
 ],
 "metadata": {
  "kernelspec": {
   "display_name": "Python 3.8.5 ('base')",
   "language": "python",
   "name": "python3"
  },
  "language_info": {
   "codemirror_mode": {
    "name": "ipython",
    "version": 3
   },
   "file_extension": ".py",
   "mimetype": "text/x-python",
   "name": "python",
   "nbconvert_exporter": "python",
   "pygments_lexer": "ipython3",
   "version": "3.8.5"
  },
  "orig_nbformat": 4,
  "vscode": {
   "interpreter": {
    "hash": "f3d7cdb4777bbd7da1406ec0be8e15425d60542aec72d6f7f803f3da416f6080"
   }
  }
 },
 "nbformat": 4,
 "nbformat_minor": 2
}
