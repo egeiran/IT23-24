{
 "cells": [
  {
   "cell_type": "code",
   "execution_count": 3,
   "metadata": {},
   "outputs": [],
   "source": [
    "import json\n",
    "\n",
    "with open(\"Global YouTube Statistics.json\") as fil:\n",
    "    data = json.load(fil)"
   ]
  },
  {
   "cell_type": "code",
   "execution_count": 4,
   "metadata": {},
   "outputs": [
    {
     "name": "stdout",
     "output_type": "stream",
     "text": [
      "dict_items([('India', {'antland': 168, 'abbonenter': 4065600000, 'videovisninger': 2053048375204}), ('United States', {'antland': 313, 'abbonenter': 7159500000, 'videovisninger': 3690291816959}), ('nan', {'antland': 1, 'abbonenter': 0, 'videovisninger': 0}), ('Japan', {'antland': 5, 'abbonenter': 78100000, 'videovisninger': 56623972987}), ('Russia', {'antland': 16, 'abbonenter': 301200000, 'videovisninger': 142517268500}), ('South Korea', {'antland': 17, 'abbonenter': 391900000, 'videovisninger': 193447087850}), ('United Kingdom', {'antland': 43, 'abbonenter': 837300000, 'videovisninger': 404329741399}), ('Canada', {'antland': 15, 'abbonenter': 292300000, 'videovisninger': 160712454363}), ('Brazil', {'antland': 62, 'abbonenter': 1155300000, 'videovisninger': 444433388342}), ('Argentina', {'antland': 13, 'abbonenter': 270100000, 'videovisninger': 137143723108}), ('Chile', {'antland': 3, 'abbonenter': 39100000, 'videovisninger': 14715846288}), ('Cuba', {'antland': 1, 'abbonenter': 0, 'videovisninger': 0}), ('El Salvador', {'antland': 1, 'abbonenter': 0, 'videovisninger': 0}), ('Pakistan', {'antland': 6, 'abbonenter': 110800000, 'videovisninger': 72154367048}), ('Philippines', {'antland': 12, 'abbonenter': 195900000, 'videovisninger': 78835503497}), ('Thailand', {'antland': 18, 'abbonenter': 342800000, 'videovisninger': 251433709963}), ('Colombia', {'antland': 11, 'abbonenter': 221000000, 'videovisninger': 126629050356}), ('Barbados', {'antland': 1, 'abbonenter': 0, 'videovisninger': 0}), ('Mexico', {'antland': 33, 'abbonenter': 585600000, 'videovisninger': 192616820175}), ('United Arab Emirates', {'antland': 7, 'abbonenter': 108500000, 'videovisninger': 51435789242}), ('Spain', {'antland': 22, 'abbonenter': 346000000, 'videovisninger': 116402552726}), ('Saudi Arabia', {'antland': 9, 'abbonenter': 140700000, 'videovisninger': 58138867607}), ('Indonesia', {'antland': 28, 'abbonenter': 500100000, 'videovisninger': 147047661640}), ('Turkey', {'antland': 4, 'abbonenter': 58900000, 'videovisninger': 73219204842}), ('Venezuela', {'antland': 1, 'abbonenter': 0, 'videovisninger': 0}), ('Kuwait', {'antland': 1, 'abbonenter': 0, 'videovisninger': 0}), ('Jordan', {'antland': 3, 'abbonenter': 36800000, 'videovisninger': 25405124347}), ('Netherlands', {'antland': 3, 'abbonenter': 28000000, 'videovisninger': 4259276609}), ('Singapore', {'antland': 3, 'abbonenter': 31900000, 'videovisninger': 26675834708}), ('Australia', {'antland': 9, 'abbonenter': 144200000, 'videovisninger': 48103960928}), ('Italy', {'antland': 2, 'abbonenter': 13000000, 'videovisninger': 2683297849}), ('Germany', {'antland': 6, 'abbonenter': 93400000, 'videovisninger': 22737734173}), ('France', {'antland': 5, 'abbonenter': 61600000, 'videovisninger': 21893809902}), ('Sweden', {'antland': 4, 'abbonenter': 42400000, 'videovisninger': 9744027335}), ('Afghanistan', {'antland': 1, 'abbonenter': 0, 'videovisninger': 0}), ('Ukraine', {'antland': 8, 'abbonenter': 105200000, 'videovisninger': 53757918902}), ('Latvia', {'antland': 1, 'abbonenter': 0, 'videovisninger': 0}), ('Switzerland', {'antland': 1, 'abbonenter': 0, 'videovisninger': 0}), ('Vietnam', {'antland': 3, 'abbonenter': 29900000, 'videovisninger': 15220796577}), ('Malaysia', {'antland': 1, 'abbonenter': 0, 'videovisninger': 0}), ('China', {'antland': 1, 'abbonenter': 0, 'videovisninger': 0}), ('Iraq', {'antland': 2, 'abbonenter': 12800000, 'videovisninger': 5863456698}), ('Egypt', {'antland': 2, 'abbonenter': 15100000, 'videovisninger': 5324913850}), ('Andorra', {'antland': 1, 'abbonenter': 0, 'videovisninger': 0}), ('Ecuador', {'antland': 2, 'abbonenter': 13100000, 'videovisninger': 2879263916}), ('Morocco', {'antland': 1, 'abbonenter': 0, 'videovisninger': 0}), ('Peru', {'antland': 1, 'abbonenter': 0, 'videovisninger': 0}), ('Bangladesh', {'antland': 1, 'abbonenter': 0, 'videovisninger': 0}), ('Finland', {'antland': 1, 'abbonenter': 0, 'videovisninger': 0}), ('Samoa', {'antland': 1, 'abbonenter': 0, 'videovisninger': 0})])\n"
     ]
    }
   ],
   "source": [
    "land = {}\n",
    "for kanal in data:\n",
    "    if kanal[\"Country\"] in land and kanal[\"Country\"] != \"nan\":\n",
    "        land[kanal[\"Country\"]][\"antland\"] += 1 \n",
    "        land[kanal[\"Country\"]][\"abbonenter\"] += kanal[\"subscribers\"]\n",
    "        land[kanal[\"Country\"]][\"videovisninger\"] += kanal[\"video views\"]\n",
    "    else:\n",
    "        land[kanal[\"Country\"]] = {\n",
    "            \"antland\": 1,\n",
    "            \"abbonenter\": 0,\n",
    "            \"videovisninger\": 0\n",
    "        }\n",
    "\n",
    "print(land.items())\n",
    "# land_sortert = sorted(land.items(), key=lambda land:land[1][\"antland\"], reverse=True)\n",
    "# print(land_sortert[:3])"
   ]
  },
  {
   "cell_type": "code",
   "execution_count": null,
   "metadata": {},
   "outputs": [],
   "source": []
  }
 ],
 "metadata": {
  "kernelspec": {
   "display_name": "Python 3.8.5 ('base')",
   "language": "python",
   "name": "python3"
  },
  "language_info": {
   "codemirror_mode": {
    "name": "ipython",
    "version": 3
   },
   "file_extension": ".py",
   "mimetype": "text/x-python",
   "name": "python",
   "nbconvert_exporter": "python",
   "pygments_lexer": "ipython3",
   "version": "3.8.5"
  },
  "orig_nbformat": 4,
  "vscode": {
   "interpreter": {
    "hash": "f3d7cdb4777bbd7da1406ec0be8e15425d60542aec72d6f7f803f3da416f6080"
   }
  }
 },
 "nbformat": 4,
 "nbformat_minor": 2
}
