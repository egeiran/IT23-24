{
 "cells": [
  {
   "cell_type": "code",
   "execution_count": 9,
   "metadata": {},
   "outputs": [],
   "source": [
    "import json\n",
    "\n",
    "with open(\"Global YouTube Statistics.json\") as fil:\n",
    "    data = json.load(fil)"
   ]
  },
  {
   "cell_type": "code",
   "execution_count": 10,
   "metadata": {},
   "outputs": [
    {
     "name": "stdout",
     "output_type": "stream",
     "text": [
      "[('United States', {'antland': 313, 'abbonenter': 7159500000, 'videovisninger': 3690291816959}), ('India', {'antland': 168, 'abbonenter': 4065600000, 'videovisninger': 2053048375204}), ('Brazil', {'antland': 62, 'abbonenter': 1155300000, 'videovisninger': 444433388342})]\n"
     ]
    }
   ],
   "source": [
    "land = {}\n",
    "for kanal in data:\n",
    "    if kanal[\"Country\"] in land and kanal[\"Country\"] != \"nan\":\n",
    "        land[kanal[\"Country\"]][\"antland\"] += 1 \n",
    "        land[kanal[\"Country\"]][\"abbonenter\"] += kanal[\"subscribers\"]\n",
    "        land[kanal[\"Country\"]][\"videovisninger\"] += kanal[\"video views\"]\n",
    "    else:\n",
    "        land[kanal[\"Country\"]] = {\n",
    "            \"antland\": 1,\n",
    "            \"abbonenter\": 0,\n",
    "            \"videovisninger\": 0\n",
    "        }\n",
    "\n",
    "land_sortert = sorted(land.items(), key=lambda land:land[1][\"antland\"], reverse=True)\n",
    "print(land_sortert[:3])"
   ]
  },
  {
   "cell_type": "code",
   "execution_count": null,
   "metadata": {},
   "outputs": [],
   "source": []
  }
 ],
 "metadata": {
  "kernelspec": {
   "display_name": "Python 3.8.5 ('base')",
   "language": "python",
   "name": "python3"
  },
  "language_info": {
   "codemirror_mode": {
    "name": "ipython",
    "version": 3
   },
   "file_extension": ".py",
   "mimetype": "text/x-python",
   "name": "python",
   "nbconvert_exporter": "python",
   "pygments_lexer": "ipython3",
   "version": "3.8.5"
  },
  "orig_nbformat": 4,
  "vscode": {
   "interpreter": {
    "hash": "f3d7cdb4777bbd7da1406ec0be8e15425d60542aec72d6f7f803f3da416f6080"
   }
  }
 },
 "nbformat": 4,
 "nbformat_minor": 2
}
