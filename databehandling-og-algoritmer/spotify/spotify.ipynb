{
 "cells": [
  {
   "cell_type": "code",
   "execution_count": 1,
   "metadata": {},
   "outputs": [
    {
     "name": "stdout",
     "output_type": "stream",
     "text": [
      "Hello, world!\n"
     ]
    }
   ],
   "source": [
    "print(\"Hello, world!\")"
   ]
  },
  {
   "cell_type": "code",
   "execution_count": 45,
   "metadata": {},
   "outputs": [
    {
     "name": "stdout",
     "output_type": "stream",
     "text": [
      "<class 'list'>\n"
     ]
    },
    {
     "data": {
      "text/plain": [
       "5"
      ]
     },
     "execution_count": 45,
     "metadata": {},
     "output_type": "execute_result"
    }
   ],
   "source": [
    "import json\n",
    "with open(\"spotify-weekly-top-songs-global-uke2-2023.json\") as fil:\n",
    "    data = json.load(fil)\n",
    "with open(\"prev.json\") as prev:\n",
    "    previous = json.load(prev)\n",
    "print(type(data))\n",
    "for i in range(len(data)):\n",
    "    data[i][\"forrige_plassering\"] = previous[i]\n",
    "data[0][\"uker_paa_listen\"]"
   ]
  },
  {
   "cell_type": "code",
   "execution_count": 43,
   "metadata": {},
   "outputs": [
    {
     "data": {
      "text/plain": [
       "358"
      ]
     },
     "execution_count": 43,
     "metadata": {},
     "output_type": "execute_result"
    }
   ],
   "source": [
    "høyest = data[0][\"uker_paa_listen\"]\n",
    "sangen = data[0]\n",
    "for sang in data:\n",
    "    if sang[\"uker_paa_listen\"] > høyest:\n",
    "        høyest = sang[\"uker_paa_listen\"]\n",
    "        sangen = sang\n",
    "høyest"
   ]
  },
  {
   "cell_type": "code",
   "execution_count": 32,
   "metadata": {},
   "outputs": [
    {
     "name": "stdout",
     "output_type": "stream",
     "text": [
      "200\n"
     ]
    },
    {
     "data": {
      "text/plain": [
       "120017297"
      ]
     },
     "execution_count": 32,
     "metadata": {},
     "output_type": "execute_result"
    }
   ],
   "source": [
    "avspillinger = 0\n",
    "for sang in data:\n",
    "    if sang[\"artist\"] == \"Taylor Swift\":\n",
    "        avspillinger += sang[\"antall_streams\"]\n",
    "avspillinger"
   ]
  },
  {
   "cell_type": "code",
   "execution_count": 57,
   "metadata": {},
   "outputs": [
    {
     "name": "stdout",
     "output_type": "stream",
     "text": [
      "{'navn': 'Murder On The Dancefloor', 'artist': 'Sophie Ellis-Bextor', 'bilde_url': 'https://i.scdn.co/image/ab67616d00001e02b736151ed1c04f2d41d5f69e', 'plassering': 33, 'forrige_plassering': 143, 'topplassering': 33, 'topp_dato': '2024-01-11', 'uker_paa_listen': 2, 'antall_streams': 15428131}\n",
      "143 33 110\n"
     ]
    }
   ],
   "source": [
    "uker_opp = data[0][\"forrige_plassering\"] - data[0][\"plassering\"]\n",
    "for sang in data:\n",
    "    if sang[\"forrige_plassering\"] - sang[\"plassering\"] > uker_opp and sang[\"forrige_plassering\"] > 0:\n",
    "        uker_opp = sang[\"forrige_plassering\"] - sang[\"plassering\"]\n",
    "        sangen = sang\n",
    "print(sangen)\n",
    "print(sangen[\"forrige_plassering\"], sangen[\"plassering\"], sangen[\"forrige_plassering\"] - sangen[\"plassering\"])"
   ]
  },
  {
   "cell_type": "code",
   "execution_count": null,
   "metadata": {},
   "outputs": [],
   "source": []
  }
 ],
 "metadata": {
  "kernelspec": {
   "display_name": "Python 3.8.5 ('base')",
   "language": "python",
   "name": "python3"
  },
  "language_info": {
   "codemirror_mode": {
    "name": "ipython",
    "version": 3
   },
   "file_extension": ".py",
   "mimetype": "text/x-python",
   "name": "python",
   "nbconvert_exporter": "python",
   "pygments_lexer": "ipython3",
   "version": "3.8.5"
  },
  "orig_nbformat": 4,
  "vscode": {
   "interpreter": {
    "hash": "f3d7cdb4777bbd7da1406ec0be8e15425d60542aec72d6f7f803f3da416f6080"
   }
  }
 },
 "nbformat": 4,
 "nbformat_minor": 2
}
