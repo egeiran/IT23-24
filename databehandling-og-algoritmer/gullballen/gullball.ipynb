{
 "cells": [
  {
   "cell_type": "code",
   "execution_count": 1,
   "metadata": {},
   "outputs": [
    {
     "name": "stdout",
     "output_type": "stream",
     "text": [
      "hello, world\n"
     ]
    }
   ],
   "source": [
    "print(\"hello, world\")"
   ]
  },
  {
   "cell_type": "code",
   "execution_count": 2,
   "metadata": {},
   "outputs": [],
   "source": [
    "import json\n",
    "\n",
    "with open(\"gullball.json\") as fil:\n",
    "    data = json.load(fil)"
   ]
  },
  {
   "cell_type": "code",
   "execution_count": 3,
   "metadata": {},
   "outputs": [
    {
     "name": "stdout",
     "output_type": "stream",
     "text": [
      "[{'navn': 'Luís Figo', 'år': [2000], 'nasjonalitet': 'Portugal', 'klubber': ['Real Madrid']}, {'navn': 'Michael Owen', 'år': [2001], 'nasjonalitet': 'England', 'klubber': ['Liverpool']}, {'navn': 'Ronaldo', 'år': [2002], 'nasjonalitet': 'Brasil', 'klubber': ['Real Madrid']}, {'navn': 'Pavel Nedvěd', 'år': [2003], 'nasjonalitet': 'Tsjekkia', 'klubber': ['Juventus']}, {'navn': 'Andriy Shevchenko', 'år': [2004], 'nasjonalitet': 'Ukraina', 'klubber': ['Milan']}, {'navn': 'Ronaldinho', 'år': [2005], 'nasjonalitet': 'Brasil', 'klubber': ['Barcelona']}, {'navn': 'Fabio Cannavaro', 'år': [2006], 'nasjonalitet': 'Italia', 'klubber': ['Real Madrid']}, {'navn': 'Kaká', 'år': [2007], 'nasjonalitet': 'Brasil', 'klubber': ['Milan']}, {'navn': 'Cristiano Ronaldo', 'år': [2008, 2013, 2014, 2016, 2017], 'nasjonalitet': 'Portugal', 'klubber': ['Manchester United', 'Real Madrid']}, {'navn': 'Lionel Messi', 'år': [2009, 2010, 2011, 2012, 2015, 2019, 2021, 2023], 'nasjonalitet': 'Argentina', 'klubber': ['Barcelona', 'Paris Saint-Germain F.C.', 'Inter Miami']}, {'navn': 'Luka Modric', 'år': [2018], 'nasjonalitet': 'Kroatia', 'klubber': ['Real Madrid']}, {'navn': 'Karim Benzema', 'år': [2022], 'nasjonalitet': 'Frankrike', 'klubber': ['Real Madrid']}]\n"
     ]
    }
   ],
   "source": [
    "print(data)"
   ]
  },
  {
   "cell_type": "code",
   "execution_count": 9,
   "metadata": {},
   "outputs": [
    {
     "name": "stdout",
     "output_type": "stream",
     "text": [
      "Luís Figo, Portugal, 1 gullball.\n",
      "Michael Owen, England, 1 gullball.\n",
      "Ronaldo, Brasil, 1 gullball.\n",
      "Pavel Nedvěd, Tsjekkia, 1 gullball.\n",
      "Andriy Shevchenko, Ukraina, 1 gullball.\n",
      "Ronaldinho, Brasil, 1 gullball.\n",
      "Fabio Cannavaro, Italia, 1 gullball.\n",
      "Kaká, Brasil, 1 gullball.\n",
      "Cristiano Ronaldo, Portugal, 5 gullballer.\n",
      "Lionel Messi, Argentina, 8 gullballer.\n",
      "Luka Modric, Kroatia, 1 gullball.\n",
      "Karim Benzema, Frankrike, 1 gullball.\n"
     ]
    }
   ],
   "source": [
    "for spiller in data:\n",
    "    if len(spiller[\"år\"]) == 1:\n",
    "        print(f\"{spiller['navn']}, {spiller['nasjonalitet']}, {len(spiller['år'])} gullball.\")\n",
    "    else:\n",
    "        print(f\"{spiller['navn']}, {spiller['nasjonalitet']}, {len(spiller['år'])} gullballer.\")"
   ]
  },
  {
   "cell_type": "code",
   "execution_count": null,
   "metadata": {},
   "outputs": [],
   "source": []
  }
 ],
 "metadata": {
  "kernelspec": {
   "display_name": "Python 3.8.5 ('base')",
   "language": "python",
   "name": "python3"
  },
  "language_info": {
   "codemirror_mode": {
    "name": "ipython",
    "version": 3
   },
   "file_extension": ".py",
   "mimetype": "text/x-python",
   "name": "python",
   "nbconvert_exporter": "python",
   "pygments_lexer": "ipython3",
   "version": "3.8.5"
  },
  "orig_nbformat": 4,
  "vscode": {
   "interpreter": {
    "hash": "f3d7cdb4777bbd7da1406ec0be8e15425d60542aec72d6f7f803f3da416f6080"
   }
  }
 },
 "nbformat": 4,
 "nbformat_minor": 2
}
