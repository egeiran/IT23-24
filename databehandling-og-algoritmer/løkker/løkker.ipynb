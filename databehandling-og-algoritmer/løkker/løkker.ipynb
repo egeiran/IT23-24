{
 "cells": [
  {
   "cell_type": "code",
   "execution_count": null,
   "metadata": {},
   "outputs": [],
   "source": [
    "# WHILE LØKKER\n",
    "teller = 0\n",
    "while teller < 20:\n",
    "    teller += 2\n",
    "    print(teller)"
   ]
  },
  {
   "cell_type": "code",
   "execution_count": null,
   "metadata": {},
   "outputs": [],
   "source": [
    "# FOR LØKKER\n",
    "\n",
    "for tall in [1, 2, 3, 4, 5, 6, 7, 8, 9, 10]:\n",
    "    print(tall)\n",
    "\n",
    "for bokstav in \"Ja, vi elsker\":\n",
    "    print(bokstav)"
   ]
  },
  {
   "cell_type": "code",
   "execution_count": null,
   "metadata": {},
   "outputs": [],
   "source": [
    "# RANGE\n",
    "# range(start, slutt_før, steg)\n",
    "\n",
    "for i in range(0, 10, 1):\n",
    "    print(i)\n",
    "    \n",
    "for i in range(8):\n",
    "    print(i)\n",
    "\n",
    "for i in range(10, 0, -1):\n",
    "    print(i)"
   ]
  },
  {
   "cell_type": "code",
   "execution_count": 13,
   "metadata": {},
   "outputs": [
    {
     "name": "stdout",
     "output_type": "stream",
     "text": [
      "IT1: 6\n",
      "IT2: 6\n",
      "T1: 6\n",
      "R1: 5\n",
      "R2: 5\n"
     ]
    }
   ],
   "source": [
    "fag = [\"IT1\", \"IT2\", \"T1\", \"R1\", \"R2\"]\n",
    "karakterer = [6, 6, 6, 5, 5]\n",
    "\n",
    "assert len(fag) == len(karakterer)\n",
    "for i in range(len(fag)):\n",
    "    print(f\"{fag[i]}: {karakterer[i]}\")"
   ]
  },
  {
   "cell_type": "code",
   "execution_count": 14,
   "metadata": {},
   "outputs": [
    {
     "name": "stdout",
     "output_type": "stream",
     "text": [
      "David Ravi\n",
      "43\n",
      "Mattelærer\n",
      "Gaming\n",
      "Databrus\n"
     ]
    }
   ],
   "source": [
    "ravi = {\n",
    "    \"navn\": \"David Ravi\",\n",
    "    \"alder\": 43,\n",
    "    \"yrke\": \"Mattelærer\",\n",
    "    \"favorittaktivitet\": \"Gaming\",\n",
    "    \"favorittdrikk\": \"Databrus\"\n",
    "}\n",
    "\n",
    "for nøkkel in ravi:\n",
    "    print(ravi[nøkkel])"
   ]
  },
  {
   "cell_type": "code",
   "execution_count": 16,
   "metadata": {},
   "outputs": [
    {
     "name": "stdout",
     "output_type": "stream",
     "text": [
      "Emma Stone (34)\n"
     ]
    }
   ],
   "source": [
    "skuespillere = [\n",
    "    {\"navn\": \"Tom Hanks\", \"alder\": 66},\n",
    "    {\"navn\": \"Meryl Streep\", \"alder\": 73},\n",
    "    {\"navn\": \"Leonardo DiCaprio\", \"alder\": 48},\n",
    "    {\"navn\": \"Julia Roberts\", \"alder\": 55},\n",
    "    {\"navn\": \"Denzel Washington\", \"alder\": 67},\n",
    "    {\"navn\": \"Nicole Kidman\", \"alder\": 55},\n",
    "    {\"navn\": \"Brad Pitt\", \"alder\": 59},\n",
    "    {\"navn\": \"Charlize Theron\", \"alder\": 47},\n",
    "    {\"navn\": \"Johnny Depp\", \"alder\": 59},\n",
    "    {\"navn\": \"Emma Stone\", \"alder\": 34},\n",
    "]\n",
    "\n",
    "favoritt = skuespillere[-1]\n",
    "print(f'{favoritt[\"navn\"]} ({favoritt[\"alder\"]})')"
   ]
  },
  {
   "cell_type": "code",
   "execution_count": 17,
   "metadata": {},
   "outputs": [
    {
     "name": "stdout",
     "output_type": "stream",
     "text": [
      "Tom Hanks (66)\n",
      "Meryl Streep (73)\n",
      "Leonardo DiCaprio (48)\n",
      "Julia Roberts (55)\n",
      "Denzel Washington (67)\n",
      "Nicole Kidman (55)\n",
      "Brad Pitt (59)\n",
      "Charlize Theron (47)\n",
      "Johnny Depp (59)\n",
      "Emma Stone (34)\n"
     ]
    }
   ],
   "source": [
    "for s in skuespillere:\n",
    "    print(f\"{s['navn']} ({s['alder']})\")"
   ]
  },
  {
   "cell_type": "code",
   "execution_count": null,
   "metadata": {},
   "outputs": [],
   "source": []
  }
 ],
 "metadata": {
  "kernelspec": {
   "display_name": "Python 3.8.5 ('base')",
   "language": "python",
   "name": "python3"
  },
  "language_info": {
   "codemirror_mode": {
    "name": "ipython",
    "version": 3
   },
   "file_extension": ".py",
   "mimetype": "text/x-python",
   "name": "python",
   "nbconvert_exporter": "python",
   "pygments_lexer": "ipython3",
   "version": "3.8.5"
  },
  "orig_nbformat": 4,
  "vscode": {
   "interpreter": {
    "hash": "f3d7cdb4777bbd7da1406ec0be8e15425d60542aec72d6f7f803f3da416f6080"
   }
  }
 },
 "nbformat": 4,
 "nbformat_minor": 2
}
