{
 "cells": [
  {
   "cell_type": "code",
   "execution_count": 2,
   "metadata": {},
   "outputs": [],
   "source": [
    "import json\n",
    "\n",
    "with open(\"imdb.json\") as fil:\n",
    "    data = json.load(fil)"
   ]
  },
  {
   "cell_type": "code",
   "execution_count": 3,
   "metadata": {},
   "outputs": [],
   "source": [
    "def fine_regissører(liste):\n",
    "    strengen = \"\"\n",
    "    for i in range(len(liste)):\n",
    "        strengen = strengen + str(liste[i])\n",
    "        if i == len(liste) - 2:\n",
    "            strengen = strengen + \" og \"\n",
    "        elif i == len(liste) - 1:\n",
    "            strengen = strengen + \".\"\n",
    "        else:\n",
    "            strengen = strengen + \", \"\n",
    "    return(strengen)"
   ]
  },
  {
   "cell_type": "code",
   "execution_count": 4,
   "metadata": {},
   "outputs": [
    {
     "name": "stdout",
     "output_type": "stream",
     "text": [
      "Filmen heter Yôjinbô og er regissert av Akira Kurosawa.\n"
     ]
    }
   ],
   "source": [
    "print(\"Filmen heter\", data[0][\"navn\"], \"og er regissert av\", fine_regissører(data[0][\"regissører\"]))"
   ]
  },
  {
   "cell_type": "code",
   "execution_count": 5,
   "metadata": {},
   "outputs": [
    {
     "name": "stdout",
     "output_type": "stream",
     "text": [
      "gjennomsnittskarakteren er 8.3\n"
     ]
    }
   ],
   "source": [
    "karaktersum = 0\n",
    "for film in data:\n",
    "    karaktersum += film[\"karakter\"]\n",
    "print(\"gjennomsnittskarakteren er\", round(karaktersum/len(data), 1))"
   ]
  },
  {
   "cell_type": "code",
   "execution_count": 6,
   "metadata": {},
   "outputs": [
    {
     "name": "stdout",
     "output_type": "stream",
     "text": [
      "gjennomsnittskarakteren er 8.3\n"
     ]
    }
   ],
   "source": [
    "karaktersum = 0\n",
    "for film in data[:10]:\n",
    "    karaktersum += film[\"karakter\"]\n",
    "print(\"gjennomsnittskarakteren er\", round(karaktersum/10, 1))"
   ]
  },
  {
   "cell_type": "code",
   "execution_count": 11,
   "metadata": {},
   "outputs": [
    {
     "name": "stdout",
     "output_type": "stream",
     "text": [
      "[('Akira Kurosawa', 7), ('Martin Scorsese', 7), ('Stanley Kubrick', 7)]\n"
     ]
    }
   ],
   "source": [
    "regissører = {}\n",
    "for film in data:\n",
    "    for regissør in film[\"regissører\"]:\n",
    "        if regissør in regissører.keys():\n",
    "            regissører[regissør] += 1\n",
    "        else:\n",
    "            regissører[regissør] = 1\n",
    "\n",
    "personer_sortert = sorted(regissører.items(), key=lambda regissør:regissør[1], reverse=True)\n",
    "print(personer_sortert[:3])"
   ]
  },
  {
   "cell_type": "code",
   "execution_count": 15,
   "metadata": {},
   "outputs": [],
   "source": [
    "# karaktersum = 0\n",
    "# for film in data:\n",
    "#     if \"Akira Kurosawa\" in film[\"regissører\"]:\n",
    "#         print(film[\"karakter\"])\n",
    "#         karaktersum += film[\"karakter\"]\n",
    "\n",
    "# print(round(karaktersum/7, 1))"
   ]
  },
  {
   "cell_type": "code",
   "execution_count": null,
   "metadata": {},
   "outputs": [],
   "source": []
  }
 ],
 "metadata": {
  "kernelspec": {
   "display_name": "Python 3.8.5 ('base')",
   "language": "python",
   "name": "python3"
  },
  "language_info": {
   "codemirror_mode": {
    "name": "ipython",
    "version": 3
   },
   "file_extension": ".py",
   "mimetype": "text/x-python",
   "name": "python",
   "nbconvert_exporter": "python",
   "pygments_lexer": "ipython3",
   "version": "3.8.5"
  },
  "orig_nbformat": 4,
  "vscode": {
   "interpreter": {
    "hash": "f3d7cdb4777bbd7da1406ec0be8e15425d60542aec72d6f7f803f3da416f6080"
   }
  }
 },
 "nbformat": 4,
 "nbformat_minor": 2
}
