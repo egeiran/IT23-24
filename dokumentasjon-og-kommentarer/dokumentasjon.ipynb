{
 "cells": [
  {
   "cell_type": "code",
   "execution_count": 1,
   "metadata": {},
   "outputs": [
    {
     "name": "stdout",
     "output_type": "stream",
     "text": [
      "Hallo, verden!\n"
     ]
    }
   ],
   "source": [
    "print(\"Hallo, verden!\")"
   ]
  },
  {
   "cell_type": "markdown",
   "metadata": {},
   "source": [
    "# Dokumentasjon og kommentarer\n",
    "\n",
    "## Plan\n",
    "\n",
    "1. Hvorfor kommentere/dokumentere\n",
    "2. Kommentarer vs. dokumentasjon\n",
    "3. Kommentarer\n",
    "   1. Hvordan?\n",
    "   2. Trenger vi egentlig kommentarer?\n",
    "4. Type hinting\n",
    "5. Docstrings\n",
    "\n",
    "## Oppgaver\n",
    "\n",
    "- 3.17-3.20\n",
    "- Prosjektarbeid\n"
   ]
  },
  {
   "cell_type": "markdown",
   "metadata": {},
   "source": [
    "## Hvorfor kommentere/dokumentere kode?\n",
    "\n",
    "\"Code is more often read than written\" - Guido von Rossum (skaperen av python)"
   ]
  },
  {
   "cell_type": "code",
   "execution_count": 2,
   "metadata": {},
   "outputs": [],
   "source": [
    "def ta_på_regntøy(vær):\n",
    "    # sjekker om været er regn\n",
    "    if vær == \"regn\":\n",
    "        # returnerer True hvis været er regn\n",
    "        return True\n",
    "    else:\n",
    "        # returnerer False hvis været IKKE er regn\n",
    "        return False"
   ]
  },
  {
   "cell_type": "code",
   "execution_count": 3,
   "metadata": {},
   "outputs": [],
   "source": [
    "# VIKTIG MED GODE NAVN\n",
    "\n",
    "def f(x):\n",
    "    return (5/9) * x + 32\n",
    "\n",
    "def fahrenheit_til_celsius(fahrenheit):\n",
    "    return (5/9) * fahrenheit + 32"
   ]
  },
  {
   "cell_type": "code",
   "execution_count": null,
   "metadata": {},
   "outputs": [],
   "source": [
    "# Docstrings\n",
    "\n",
    "def areal_trekant(grunnlinje: float, høyde: float) -> float:\n",
    "    \"\"\"\n",
    "        En funksjon som regner ut areal av trekanter\n",
    "    \"\"\"\n",
    "    return grunnlinje * høyde / 2\n",
    "\n",
    "# SE OPPI\n",
    "areal_trekant"
   ]
  },
  {
   "cell_type": "markdown",
   "metadata": {},
   "source": [
    "## Type hinting og docstrings\n",
    "\n",
    "Type hinting og docstrings er spesilelle kommentarer som brukes for å dokumentere kode.\n",
    "\n",
    "Dokumentasjon av kode lages for å hjelpe utviklere å bruke koden.\n",
    "For eksempel dokumentasjonen som er laget for å forklare random.randint-funksjonen er laget for å forklare utviklere hvordan funksjonen skal brukes. (Docstrings og typehinting)\n",
    "\n",
    "\"Vanlige\" kommentarer er laget for de som skal endre/forbedre kode, mens dokumentasjon lages for programmerere som skal bruke kode"
   ]
  },
  {
   "cell_type": "code",
   "execution_count": null,
   "metadata": {},
   "outputs": [],
   "source": []
  }
 ],
 "metadata": {
  "kernelspec": {
   "display_name": "Python 3.8.5 ('base')",
   "language": "python",
   "name": "python3"
  },
  "language_info": {
   "codemirror_mode": {
    "name": "ipython",
    "version": 3
   },
   "file_extension": ".py",
   "mimetype": "text/x-python",
   "name": "python",
   "nbconvert_exporter": "python",
   "pygments_lexer": "ipython3",
   "version": "3.8.5"
  },
  "orig_nbformat": 4,
  "vscode": {
   "interpreter": {
    "hash": "f3d7cdb4777bbd7da1406ec0be8e15425d60542aec72d6f7f803f3da416f6080"
   }
  }
 },
 "nbformat": 4,
 "nbformat_minor": 2
}
